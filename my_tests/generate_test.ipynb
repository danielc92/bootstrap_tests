{
 "cells": [
  {
   "cell_type": "markdown",
   "metadata": {},
   "source": [
    "# Test Generate\n",
    "- Dynamically edit html\n",
    "- Generate html file\n",
    "- Open html file in browser"
   ]
  },
  {
   "cell_type": "code",
   "execution_count": 1,
   "metadata": {},
   "outputs": [],
   "source": [
    "card_class = \"card bg-light mb-4\"\n",
    "card_header_footer = 'h4 class = \"text-primary\"'"
   ]
  },
  {
   "cell_type": "code",
   "execution_count": 2,
   "metadata": {},
   "outputs": [],
   "source": [
    "skeleton_html = '''\n",
    "<!doctype html>\n",
    "<html lang=\"en\">\n",
    "\n",
    "<head>\n",
    "    <!-- Required meta tags -->\n",
    "    <meta charset=\"utf-8\">\n",
    "    <meta name=\"viewport\" content=\"width=device-width, initial-scale=1, shrink-to-fit=no\">\n",
    "\n",
    "    <!-- Bootstrap CSS -->\n",
    "    <link rel=\"stylesheet\" href=\"https://stackpath.bootstrapcdn.com/bootstrap/4.1.1/css/bootstrap.min.css\" integrity=\"sha384-WskhaSGFgHYWDcbwN70/dfYBj47jz9qbsMId/iRN3ewGhXQFZCSftd1LZCfmhktB\" crossorigin=\"anonymous\">\n",
    "\n",
    "    <title>Hello, world!</title>\n",
    "</head>\n",
    "\n",
    "<body>\n",
    "    <div class=\"bg-light\">\n",
    "        <div class = \"container\">\n",
    "        <div class=\"jumbotron p-3\" style = \"background: rgba(122, 130, 136, 0)!important;\">\n",
    "            <h2 class = \"display-3\">Vertically Fluid Cards</h2>\n",
    "            <p>dolor sit amet, consectetur adipiscing elit, dolor sit amet, consectetur adipiscing elit, </p>\n",
    "        </div>\n",
    "        </div>\n",
    "    </div>\n",
    "\n",
    "    <div class=\"container\">\n",
    "        <div class=\"row\">\n",
    "            <div class=\"col-lg-6\">\n",
    "\n",
    "                <div class=\"'''+card_class+'''\">\n",
    "                    <div class=\"card-header\">\n",
    "                        <'''+card_header_footer+'''>Card Title</'''+card_header_footer+'''></div>\n",
    "                    <div class=\"card-body\">Lorem ised do eiusmod tempor incididunt ut labore et dolore magna aliqua. Ut enim ad minim veniam, quis nostrud exercitation ullamco laboris nisi ut aliquip ex ea commodo consequat. quis nostrud exercitation ullamco laboris nisi ut aliquip ex ea commodo consequat. quis nostrud exercitation ullamco laboris nisi ut aliquip ex ea commodo consequat.</div>\n",
    "                    <div class=\"card-footer\">\n",
    "                        <'''+card_header_footer+'''>Card Footer</'''+card_header_footer+'''></div>\n",
    "                </div>\n",
    "                \n",
    "                <div class=\"'''+card_class+'''\">\n",
    "                    <div class=\"card-header\">\n",
    "                        <'''+card_header_footer+'''>Card Title</'''+card_header_footer+'''></div>\n",
    "                    <div class=\"card-body\">Lorem ipsum dolor sit amedolor sit amet, consectetur adipiscing elit, t, consectetur adipiscing elit, sed do eiusmod tempor incididunt ut labore et dolore magna aliqua. Ut enim ad minim veniam, quis nostrud exercitation ullamco laboris nisi ut aliquip ex ea commodo consequat. quis nostrud exercitation ullamco laboris nisi ut aliquip ex ea commodo consequat. quis nostrud exercitation ullamco laboris nisi ut aliquip ex ea commodo consequat.</div>\n",
    "                    <div class=\"card-footer\">\n",
    "                        <'''+card_header_footer+'''>Card Footer</'''+card_header_footer+'''></div>\n",
    "                </div>\n",
    "                \n",
    "                <div class=\"'''+card_class+'''\">\n",
    "                    <div class=\"card-header\">\n",
    "                        <'''+card_header_footer+'''>Card Title</'''+card_header_footer+'''></div>\n",
    "                    <div class=\"card-body\">et, consectetur adipiscing elit, sed do eiusmod tempor incididunt ut labore et dolore magna aliqua. Ut enim ad minim veniam, quis nostrud exercitation ullamco laboris nisi ut aliquip ex ea commodo consequat. quis nostrud exercitation ullamco laboris nisi ut aliquip ex ea commodo consequat. quis nostrud exercitation ullamco laboris nisi ut aliquip ex ea commodo consequat.</div>\n",
    "                    <div class=\"card-footer\">\n",
    "                        <'''+card_header_footer+'''>Card Footer</'''+card_header_footer+'''></div>\n",
    "                </div>\n",
    "                \n",
    "                <div class=\"'''+card_class+'''\">\n",
    "                    <div class=\"card-header\">\n",
    "                        <'''+card_header_footer+'''>Card Title</'''+card_header_footer+'''></div>\n",
    "                    <div class=\"card-body\">Lorem ipsum dolor sit amet, consectetur adipiscing elit, sed do eiusmod tempor incididunt ut labore et dolore magna aliqua. Ut enim ad minim veniam, quis nostrud exercitation ullamco laboris nisi ut aliquip ex ea commodo consequat. quis nostrud exercitation ullamco laboris nisi ut aliquip ex ea commodo consequat. quis nostrud exercitation ullamco laboris nisi ut aliquip ex ea commodo consequat.</div>\n",
    "                    <div class=\"card-footer\">\n",
    "                        <'''+card_header_footer+'''>Card Footer</'''+card_header_footer+'''></div>\n",
    "                </div>\n",
    "\n",
    "            </div>\n",
    "\n",
    "            <div class=\"col-lg-6\">\n",
    "            \n",
    "                <div class=\"'''+card_class+'''\">\n",
    "                    <div class=\"card-header\">\n",
    "                        <'''+card_header_footer+'''>Card Title</'''+card_header_footer+'''></div>\n",
    "                    <div class=\"card-body\">Lorem ipsum dolor sit amet, consectetur adipiscing elit, sed do eiusmod tempor incididunt ut labore et dolore magna aliqua. Ut enim ad minim veniam, quis nostrud exercitation ullamco laboris nisi ut aliquip ex ea commodo consequat. quis nostrud exercitation ullamco laboris nisi ut aliquip ex ea commodo consequat. quis nostrud exercitation ullamco laboris nisi ut aliquip ex ea commodo consequat.</div>\n",
    "                    <div class=\"card-footer\">\n",
    "                        <'''+card_header_footer+'''>Card Footer</'''+card_header_footer+'''></div>\n",
    "                </div>\n",
    "                \n",
    "                <div class=\"'''+card_class+'''\">\n",
    "                    <div class=\"card-header\">\n",
    "                        <'''+card_header_footer+'''>Card Title</'''+card_header_footer+'''></div>\n",
    "                    <div class=\"card-body\">Lorem ipsum dolor sit dolor sit amet, consectetur adipiscing elit, dolor sit amet, consectetur adipiscing elit, dolor sit amet, consectetur adipiscing elit, amet, consectetur adipiscing elit, sed do eiusmod tempor incididunt ut labore et dolore magna aliqua. Ut enim ad minim veniam, quis nostrud exercitation ullamco laboris nisi ut aliquip ex ea commodo consequat. quis nostrud exercitation ullamco laboris nisi ut aliquip ex ea commodo consequat. quis nostrud exercitation ullamco laboris nisi ut aliquip ex ea commodo consequat.</div>\n",
    "                    <div class=\"card-footer\">\n",
    "                        <'''+card_header_footer+'''>Card Footer</'''+card_header_footer+'''></div>\n",
    "                </div>\n",
    "                \n",
    "                <div class=\"'''+card_class+'''\">\n",
    "                    <div class=\"card-header\">\n",
    "                        <'''+card_header_footer+'''>Card Title</'''+card_header_footer+'''></div>\n",
    "                    <div class=\"card-body\">Lorem ipsum d sed do eiusmod tempor incididunt ut labore et dolore magna aliqua. Ut enim ad minim veniam, quis nostrud exercitation ullamco laboris nisi ut aliquip ex ea commodo consequat. quis nostrud exercitation ullamco laboris nisi ut aliquip ex ea commodo consequat. quis nostrud exercitation ullamco laboris nisi ut aliquip ex ea commodo consequat.</div>\n",
    "                    <div class=\"card-footer\">\n",
    "                        <'''+card_header_footer+'''>Card Footer</'''+card_header_footer+'''></div>\n",
    "                </div>\n",
    "                \n",
    "                <div class=\"'''+card_class+'''\">\n",
    "                    <div class=\"card-header\">\n",
    "                        <'''+card_header_footer+'''>Card Title</'''+card_header_footer+'''></div>\n",
    "                    <div class=\"card-body\">Loremminim veniam, quis nostrud exercitation ullamco laboris nisi ut aliquip ex ea commodo consequat. quis nostrud exercitation ullamco laboris nisi ut aliquip ex ea commodo consequat. quis nostrud exercitation ullamco laboris nisi ut aliquip ex ea commodo consequat.</div>\n",
    "                    <div class=\"card-footer\">\n",
    "                        <'''+card_header_footer+'''>Card Footer</'''+card_header_footer+'''></div>\n",
    "                </div>\n",
    "\n",
    "            </div>\n",
    "        </div>\n",
    "    </div>\n",
    "        <!-- Optional JavaScript -->\n",
    "        <!-- jQuery first, then Popper.js, then Bootstrap JS -->\n",
    "        <script src=\"https://code.jquery.com/jquery-3.3.1.slim.min.js\" integrity=\"sha384-q8i/X+965DzO0rT7abK41JStQIAqVgRVzpbzo5smXKp4YfRvH+8abtTE1Pi6jizo\" crossorigin=\"anonymous\"></script>\n",
    "        <script src=\"https://cdnjs.cloudflare.com/ajax/libs/popper.js/1.14.3/umd/popper.min.js\" integrity=\"sha384-ZMP7rVo3mIykV+2+9J3UJ46jBk0WLaUAdn689aCwoqbBJiSnjAK/l8WvCWPIPm49\" crossorigin=\"anonymous\"></script>\n",
    "        <script src=\"https://stackpath.bootstrapcdn.com/bootstrap/4.1.1/js/bootstrap.min.js\" integrity=\"sha384-smHYKdLADwkXOn1EmN1qk/HfnUcbVRZyYmZ4qpPea6sjB/pTJ0euyQp0Mk8ck+5T\" crossorigin=\"anonymous\"></script>\n",
    "</body>\n",
    "\n",
    "</html>\n",
    "\n",
    "'''"
   ]
  },
  {
   "cell_type": "code",
   "execution_count": 3,
   "metadata": {},
   "outputs": [],
   "source": [
    "output_path = \"/users/danielcorcoran/desktop/github_repos/bootstrap_tests/my_tests/output.html\"\n",
    "\n",
    "with open(output_path, \"w\") as f:\n",
    "    f.write(skeleton_html)\n",
    "    \n",
    "f.close()"
   ]
  },
  {
   "cell_type": "code",
   "execution_count": 4,
   "metadata": {},
   "outputs": [],
   "source": [
    "import webbrowser"
   ]
  },
  {
   "cell_type": "code",
   "execution_count": 5,
   "metadata": {},
   "outputs": [
    {
     "data": {
      "text/plain": [
       "True"
      ]
     },
     "execution_count": 5,
     "metadata": {},
     "output_type": "execute_result"
    }
   ],
   "source": [
    "webbrowser.open(output_path)"
   ]
  },
  {
   "cell_type": "code",
   "execution_count": null,
   "metadata": {},
   "outputs": [],
   "source": []
  }
 ],
 "metadata": {
  "kernelspec": {
   "display_name": "Python 3",
   "language": "python",
   "name": "python3"
  },
  "language_info": {
   "codemirror_mode": {
    "name": "ipython",
    "version": 3
   },
   "file_extension": ".py",
   "mimetype": "text/x-python",
   "name": "python",
   "nbconvert_exporter": "python",
   "pygments_lexer": "ipython3",
   "version": "3.6.5"
  },
  "toc": {
   "base_numbering": 1,
   "nav_menu": {},
   "number_sections": true,
   "sideBar": true,
   "skip_h1_title": false,
   "title_cell": "Table of Contents",
   "title_sidebar": "Contents",
   "toc_cell": false,
   "toc_position": {},
   "toc_section_display": true,
   "toc_window_display": false
  },
  "varInspector": {
   "cols": {
    "lenName": 16,
    "lenType": 16,
    "lenVar": 40
   },
   "kernels_config": {
    "python": {
     "delete_cmd_postfix": "",
     "delete_cmd_prefix": "del ",
     "library": "var_list.py",
     "varRefreshCmd": "print(var_dic_list())"
    },
    "r": {
     "delete_cmd_postfix": ") ",
     "delete_cmd_prefix": "rm(",
     "library": "var_list.r",
     "varRefreshCmd": "cat(var_dic_list()) "
    }
   },
   "types_to_exclude": [
    "module",
    "function",
    "builtin_function_or_method",
    "instance",
    "_Feature"
   ],
   "window_display": false
  }
 },
 "nbformat": 4,
 "nbformat_minor": 2
}
